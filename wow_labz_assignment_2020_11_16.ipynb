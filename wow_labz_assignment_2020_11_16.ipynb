{
 "cells": [
  {
   "cell_type": "code",
   "execution_count": 966,
   "metadata": {
    "scrolled": false
   },
   "outputs": [],
   "source": [
    "import pandas\n",
    "import json\n",
    "import numpy\n",
    "from pandas import ExcelWriter\n",
    "import os"
   ]
  },
  {
   "cell_type": "code",
   "execution_count": 967,
   "metadata": {},
   "outputs": [],
   "source": [
    "path = os.path.abspath(os.getcwd())"
   ]
  },
  {
   "cell_type": "code",
   "execution_count": 968,
   "metadata": {},
   "outputs": [],
   "source": [
    "def clean_column_names(cols):\n",
    "    cols = cols.str.replace(r'[^\\x00-\\x7F]+', \" \", regex=True)\\\n",
    "                  .str.replace(\" +\", \" \", regex=True)\\\n",
    "                  .str.strip()\\\n",
    "                  .str.replace(\" \", \"_\")\\\n",
    "                  .str.upper()\n",
    "    return cols"
   ]
  },
  {
   "cell_type": "code",
   "execution_count": 975,
   "metadata": {},
   "outputs": [],
   "source": [
    "def set_types_fillna(df1, cols):\n",
    "#     can handle str, float, bool\n",
    "#     cant handle datetime\n",
    "    for col, spec in cols.items():\n",
    "        if spec.get(\"data_type\") == 'str':\n",
    "            df1[col] = df1[col].fillna(spec.get(\"default\")).astype(spec.get(\"data_type\"))\n",
    "        else:\n",
    "            df1[col] = df1[col].astype(spec.get(\"data_type\")).fillna(spec.get(\"default\"))\n",
    "            \n",
    "    return df1"
   ]
  },
  {
   "cell_type": "code",
   "execution_count": 970,
   "metadata": {},
   "outputs": [],
   "source": [
    "def save_xls(dict_df, path):\n",
    "    \"\"\"\n",
    "    Save a dictionary of dataframes to an excel file, with each dataframe as a seperate page\n",
    "    \"\"\"\n",
    "    writer = ExcelWriter(path)\n",
    "    for key in dict_df:\n",
    "        dict_df[key].to_excel(writer, key, index=False)\n",
    "\n",
    "    writer.save()"
   ]
  },
  {
   "cell_type": "code",
   "execution_count": 971,
   "metadata": {
    "scrolled": true
   },
   "outputs": [],
   "source": [
    "def generate_diff(df1, df2):\n",
    "    df_all = pandas.concat([df1, df2], axis='columns', keys=['First', 'Second'])\n",
    "    df_final = df_all.swaplevel(axis='columns')[df1.columns[:]]\n",
    "\n",
    "    def highlight_diff(data, color='yellow'):\n",
    "        attr = 'background-color: {}'.format(color)\n",
    "        other = data.xs('First', axis='columns', level=-1)\n",
    "        return pandas.DataFrame(numpy.where(data.ne(other, level=0), attr, ''),\n",
    "                            index=data.index, columns=data.columns)\n",
    "\n",
    "    df_final = df_final.style.apply(highlight_diff, axis=None)\n",
    "    return df_final"
   ]
  },
  {
   "cell_type": "code",
   "execution_count": 972,
   "metadata": {},
   "outputs": [],
   "source": [
    "with open('config.json') as f:\n",
    "    config_data = json.load(f)"
   ]
  },
  {
   "cell_type": "code",
   "execution_count": 973,
   "metadata": {
    "scrolled": false
   },
   "outputs": [
    {
     "name": "stderr",
     "output_type": "stream",
     "text": [
      "/usr/local/lib/python3.6/dist-packages/ipykernel_launcher.py:4: SettingWithCopyWarning: \n",
      "A value is trying to be set on a copy of a slice from a DataFrame.\n",
      "Try using .loc[row_indexer,col_indexer] = value instead\n",
      "\n",
      "See the caveats in the documentation: https://pandas.pydata.org/pandas-docs/stable/user_guide/indexing.html#returning-a-view-versus-a-copy\n",
      "  after removing the cwd from sys.path.\n"
     ]
    }
   ],
   "source": [
    "for conf in config_data:\n",
    "    filename = conf.get(\"filename\")\n",
    "    sheets = conf.get(\"sheet_names\")\n",
    "    xls = pandas.ExcelFile(filename)\n",
    "    df_dict = {}\n",
    "    df_diff_dic = {}\n",
    "    for sheet_name, conf_cols in sheets.items():\n",
    "        df_out, df_diff = pipeline(filename, sheet, xls, conf_cols)\n",
    "        df_dict[sheet] = df_out\n",
    "#         df_diff_dic[sheet] = df_diff\n",
    "    save_xls(df_dict, os.path.join(path, filename.split('.')[0] + \"_output.xlsx\"))\n",
    "#     some issue with writing the styler object, skipping diff output for now\n",
    "#     save_xls(df_diff_dic, os.path.join(path, filename.split('.')[0] + \"_diff.xlsx\"))\n",
    "    "
   ]
  },
  {
   "cell_type": "code",
   "execution_count": 974,
   "metadata": {},
   "outputs": [],
   "source": [
    "def pipeline(filename, sheetname, xls, cols_conf):\n",
    "    columns = list(cols_conf.get(\"columns\").keys())\n",
    "    \n",
    "    df0  = pandas.read_excel(xls, sheet_name=sheet_name)\n",
    "    df1 = df0\n",
    "    df1.columns = clean_column_names(df1.columns)\n",
    "    df1 = df1[[i for i in columns]]\n",
    "    df1 = set_types_fillna(df1, cols_conf.get(\"columns\"))\n",
    "    df_diff = generate_diff(df0, df1)\n",
    "    return df1, df_diff"
   ]
  },
  {
   "cell_type": "code",
   "execution_count": 982,
   "metadata": {},
   "outputs": [
    {
     "data": {
      "text/plain": [
       "0      1562\n",
       "1      1582\n",
       "2      2587\n",
       "3      3549\n",
       "4      2468\n",
       "       ... \n",
       "696    6525\n",
       "697    3265\n",
       "698       -\n",
       "699    6125\n",
       "700    1562\n",
       "Name: ID, Length: 701, dtype: object"
      ]
     },
     "execution_count": 982,
     "metadata": {},
     "output_type": "execute_result"
    }
   ],
   "source": [
    "df0['ID']\n",
    "# .fillna(0).astype(float)"
   ]
  },
  {
   "cell_type": "code",
   "execution_count": 983,
   "metadata": {},
   "outputs": [
    {
     "ename": "ValueError",
     "evalue": "Unable to parse string \"       \" at position 224",
     "output_type": "error",
     "traceback": [
      "\u001b[0;31m---------------------------------------------------------------------------\u001b[0m",
      "\u001b[0;31mValueError\u001b[0m                                Traceback (most recent call last)",
      "\u001b[0;32mpandas/_libs/lib.pyx\u001b[0m in \u001b[0;36mpandas._libs.lib.maybe_convert_numeric\u001b[0;34m()\u001b[0m\n",
      "\u001b[0;31mValueError\u001b[0m: Unable to parse string \"       \"",
      "\nDuring handling of the above exception, another exception occurred:\n",
      "\u001b[0;31mValueError\u001b[0m                                Traceback (most recent call last)",
      "\u001b[0;32m<ipython-input-983-49b3a84dc8b5>\u001b[0m in \u001b[0;36m<module>\u001b[0;34m\u001b[0m\n\u001b[0;32m----> 1\u001b[0;31m \u001b[0mpandas\u001b[0m\u001b[0;34m.\u001b[0m\u001b[0mto_numeric\u001b[0m\u001b[0;34m(\u001b[0m\u001b[0mdf0\u001b[0m\u001b[0;34m[\u001b[0m\u001b[0;34m\"ID\"\u001b[0m\u001b[0;34m]\u001b[0m\u001b[0;34m,\u001b[0m \u001b[0mdowncast\u001b[0m\u001b[0;34m=\u001b[0m\u001b[0;34m\"float\"\u001b[0m\u001b[0;34m)\u001b[0m\u001b[0;34m\u001b[0m\u001b[0;34m\u001b[0m\u001b[0m\n\u001b[0m",
      "\u001b[0;32m/usr/local/lib/python3.6/dist-packages/pandas/core/tools/numeric.py\u001b[0m in \u001b[0;36mto_numeric\u001b[0;34m(arg, errors, downcast)\u001b[0m\n\u001b[1;32m    151\u001b[0m         \u001b[0;32mtry\u001b[0m\u001b[0;34m:\u001b[0m\u001b[0;34m\u001b[0m\u001b[0;34m\u001b[0m\u001b[0m\n\u001b[1;32m    152\u001b[0m             values = lib.maybe_convert_numeric(\n\u001b[0;32m--> 153\u001b[0;31m                 \u001b[0mvalues\u001b[0m\u001b[0;34m,\u001b[0m \u001b[0mset\u001b[0m\u001b[0;34m(\u001b[0m\u001b[0;34m)\u001b[0m\u001b[0;34m,\u001b[0m \u001b[0mcoerce_numeric\u001b[0m\u001b[0;34m=\u001b[0m\u001b[0mcoerce_numeric\u001b[0m\u001b[0;34m\u001b[0m\u001b[0;34m\u001b[0m\u001b[0m\n\u001b[0m\u001b[1;32m    154\u001b[0m             )\n\u001b[1;32m    155\u001b[0m         \u001b[0;32mexcept\u001b[0m \u001b[0;34m(\u001b[0m\u001b[0mValueError\u001b[0m\u001b[0;34m,\u001b[0m \u001b[0mTypeError\u001b[0m\u001b[0;34m)\u001b[0m\u001b[0;34m:\u001b[0m\u001b[0;34m\u001b[0m\u001b[0;34m\u001b[0m\u001b[0m\n",
      "\u001b[0;32mpandas/_libs/lib.pyx\u001b[0m in \u001b[0;36mpandas._libs.lib.maybe_convert_numeric\u001b[0;34m()\u001b[0m\n",
      "\u001b[0;31mValueError\u001b[0m: Unable to parse string \"       \" at position 224"
     ]
    }
   ],
   "source": [
    "pandas.to_numeric(df0[\"ID\"], downcast=\"float\")"
   ]
  },
  {
   "cell_type": "code",
   "execution_count": null,
   "metadata": {},
   "outputs": [],
   "source": []
  }
 ],
 "metadata": {
  "kernelspec": {
   "display_name": "Python 3",
   "language": "python",
   "name": "python3"
  },
  "language_info": {
   "codemirror_mode": {
    "name": "ipython",
    "version": 3
   },
   "file_extension": ".py",
   "mimetype": "text/x-python",
   "name": "python",
   "nbconvert_exporter": "python",
   "pygments_lexer": "ipython3",
   "version": "3.6.9"
  }
 },
 "nbformat": 4,
 "nbformat_minor": 4
}
